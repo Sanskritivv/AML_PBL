{
 "cells": [
  {
   "cell_type": "markdown",
   "metadata": {},
   "source": [
    "## Data Loading & Preprocessing:"
   ]
  },
  {
   "cell_type": "code",
   "execution_count": 4,
   "metadata": {},
   "outputs": [
    {
     "data": {
      "text/html": [
       "<div>\n",
       "<style scoped>\n",
       "    .dataframe tbody tr th:only-of-type {\n",
       "        vertical-align: middle;\n",
       "    }\n",
       "\n",
       "    .dataframe tbody tr th {\n",
       "        vertical-align: top;\n",
       "    }\n",
       "\n",
       "    .dataframe thead th {\n",
       "        text-align: right;\n",
       "    }\n",
       "</style>\n",
       "<table border=\"1\" class=\"dataframe\">\n",
       "  <thead>\n",
       "    <tr style=\"text-align: right;\">\n",
       "      <th></th>\n",
       "      <th>Timestamp</th>\n",
       "      <th>From Bank</th>\n",
       "      <th>Account</th>\n",
       "      <th>To Bank</th>\n",
       "      <th>Account.1</th>\n",
       "      <th>Amount Received</th>\n",
       "      <th>Receiving Currency</th>\n",
       "      <th>Amount Paid</th>\n",
       "      <th>Payment Currency</th>\n",
       "      <th>Payment Format</th>\n",
       "      <th>Is Laundering</th>\n",
       "    </tr>\n",
       "  </thead>\n",
       "  <tbody>\n",
       "    <tr>\n",
       "      <th>0</th>\n",
       "      <td>2022/09/01 00:20</td>\n",
       "      <td>10</td>\n",
       "      <td>8000EBD30</td>\n",
       "      <td>10</td>\n",
       "      <td>8000EBD30</td>\n",
       "      <td>3697.34</td>\n",
       "      <td>US Dollar</td>\n",
       "      <td>3697.34</td>\n",
       "      <td>US Dollar</td>\n",
       "      <td>Reinvestment</td>\n",
       "      <td>0</td>\n",
       "    </tr>\n",
       "    <tr>\n",
       "      <th>1</th>\n",
       "      <td>2022/09/01 00:20</td>\n",
       "      <td>3208</td>\n",
       "      <td>8000F4580</td>\n",
       "      <td>1</td>\n",
       "      <td>8000F5340</td>\n",
       "      <td>0.01</td>\n",
       "      <td>US Dollar</td>\n",
       "      <td>0.01</td>\n",
       "      <td>US Dollar</td>\n",
       "      <td>Cheque</td>\n",
       "      <td>0</td>\n",
       "    </tr>\n",
       "    <tr>\n",
       "      <th>2</th>\n",
       "      <td>2022/09/01 00:00</td>\n",
       "      <td>3209</td>\n",
       "      <td>8000F4670</td>\n",
       "      <td>3209</td>\n",
       "      <td>8000F4670</td>\n",
       "      <td>14675.57</td>\n",
       "      <td>US Dollar</td>\n",
       "      <td>14675.57</td>\n",
       "      <td>US Dollar</td>\n",
       "      <td>Reinvestment</td>\n",
       "      <td>0</td>\n",
       "    </tr>\n",
       "    <tr>\n",
       "      <th>3</th>\n",
       "      <td>2022/09/01 00:02</td>\n",
       "      <td>12</td>\n",
       "      <td>8000F5030</td>\n",
       "      <td>12</td>\n",
       "      <td>8000F5030</td>\n",
       "      <td>2806.97</td>\n",
       "      <td>US Dollar</td>\n",
       "      <td>2806.97</td>\n",
       "      <td>US Dollar</td>\n",
       "      <td>Reinvestment</td>\n",
       "      <td>0</td>\n",
       "    </tr>\n",
       "    <tr>\n",
       "      <th>4</th>\n",
       "      <td>2022/09/01 00:06</td>\n",
       "      <td>10</td>\n",
       "      <td>8000F5200</td>\n",
       "      <td>10</td>\n",
       "      <td>8000F5200</td>\n",
       "      <td>36682.97</td>\n",
       "      <td>US Dollar</td>\n",
       "      <td>36682.97</td>\n",
       "      <td>US Dollar</td>\n",
       "      <td>Reinvestment</td>\n",
       "      <td>0</td>\n",
       "    </tr>\n",
       "  </tbody>\n",
       "</table>\n",
       "</div>"
      ],
      "text/plain": [
       "          Timestamp  From Bank    Account  To Bank  Account.1  \\\n",
       "0  2022/09/01 00:20         10  8000EBD30       10  8000EBD30   \n",
       "1  2022/09/01 00:20       3208  8000F4580        1  8000F5340   \n",
       "2  2022/09/01 00:00       3209  8000F4670     3209  8000F4670   \n",
       "3  2022/09/01 00:02         12  8000F5030       12  8000F5030   \n",
       "4  2022/09/01 00:06         10  8000F5200       10  8000F5200   \n",
       "\n",
       "   Amount Received Receiving Currency  Amount Paid Payment Currency  \\\n",
       "0          3697.34          US Dollar      3697.34        US Dollar   \n",
       "1             0.01          US Dollar         0.01        US Dollar   \n",
       "2         14675.57          US Dollar     14675.57        US Dollar   \n",
       "3          2806.97          US Dollar      2806.97        US Dollar   \n",
       "4         36682.97          US Dollar     36682.97        US Dollar   \n",
       "\n",
       "  Payment Format  Is Laundering  \n",
       "0   Reinvestment              0  \n",
       "1         Cheque              0  \n",
       "2   Reinvestment              0  \n",
       "3   Reinvestment              0  \n",
       "4   Reinvestment              0  "
      ]
     },
     "execution_count": 4,
     "metadata": {},
     "output_type": "execute_result"
    }
   ],
   "source": [
    "#import numpy as np # \n",
    "import pandas as pd \n",
    "df = pd.read_csv(r\"HI-Small_Trans.csv\")\n",
    "df.head()"
   ]
  },
  {
   "cell_type": "markdown",
   "metadata": {},
   "source": [
    "## Exploratory Data Analysis (EDA):"
   ]
  },
  {
   "cell_type": "code",
   "execution_count": 5,
   "metadata": {},
   "outputs": [
    {
     "name": "stdout",
     "output_type": "stream",
     "text": [
      "<class 'pandas.core.frame.DataFrame'>\n",
      "RangeIndex: 5078345 entries, 0 to 5078344\n",
      "Data columns (total 11 columns):\n",
      " #   Column              Dtype  \n",
      "---  ------              -----  \n",
      " 0   Timestamp           object \n",
      " 1   From Bank           int64  \n",
      " 2   Account             object \n",
      " 3   To Bank             int64  \n",
      " 4   Account.1           object \n",
      " 5   Amount Received     float64\n",
      " 6   Receiving Currency  object \n",
      " 7   Amount Paid         float64\n",
      " 8   Payment Currency    object \n",
      " 9   Payment Format      object \n",
      " 10  Is Laundering       int64  \n",
      "dtypes: float64(2), int64(3), object(6)\n",
      "memory usage: 426.2+ MB\n"
     ]
    }
   ],
   "source": [
    "df.info()"
   ]
  },
  {
   "cell_type": "code",
   "execution_count": 6,
   "metadata": {},
   "outputs": [
    {
     "data": {
      "text/plain": [
       "Timestamp             0\n",
       "From Bank             0\n",
       "Account               0\n",
       "To Bank               0\n",
       "Account.1             0\n",
       "Amount Received       0\n",
       "Receiving Currency    0\n",
       "Amount Paid           0\n",
       "Payment Currency      0\n",
       "Payment Format        0\n",
       "Is Laundering         0\n",
       "dtype: int64"
      ]
     },
     "execution_count": 6,
     "metadata": {},
     "output_type": "execute_result"
    }
   ],
   "source": [
    "df.isna().sum()"
   ]
  },
  {
   "cell_type": "code",
   "execution_count": 7,
   "metadata": {},
   "outputs": [
    {
     "data": {
      "text/plain": [
       "np.int64(9)"
      ]
     },
     "execution_count": 7,
     "metadata": {},
     "output_type": "execute_result"
    }
   ],
   "source": [
    "df.duplicated().sum()"
   ]
  },
  {
   "cell_type": "code",
   "execution_count": 8,
   "metadata": {},
   "outputs": [],
   "source": [
    "df.drop_duplicates(inplace=True)"
   ]
  },
  {
   "cell_type": "code",
   "execution_count": 9,
   "metadata": {},
   "outputs": [
    {
     "data": {
      "text/plain": [
       "(5078336, 11)"
      ]
     },
     "execution_count": 9,
     "metadata": {},
     "output_type": "execute_result"
    }
   ],
   "source": [
    "df.shape"
   ]
  },
  {
   "cell_type": "code",
   "execution_count": 10,
   "metadata": {},
   "outputs": [
    {
     "data": {
      "text/plain": [
       "Timestamp              object\n",
       "From Bank               int64\n",
       "Account                object\n",
       "To Bank                 int64\n",
       "Account.1              object\n",
       "Amount Received       float64\n",
       "Receiving Currency     object\n",
       "Amount Paid           float64\n",
       "Payment Currency       object\n",
       "Payment Format         object\n",
       "Is Laundering           int64\n",
       "dtype: object"
      ]
     },
     "execution_count": 10,
     "metadata": {},
     "output_type": "execute_result"
    }
   ],
   "source": [
    "df.dtypes"
   ]
  },
  {
   "cell_type": "markdown",
   "metadata": {},
   "source": [
    "## AML Analysis:"
   ]
  },
  {
   "cell_type": "code",
   "execution_count": 11,
   "metadata": {},
   "outputs": [],
   "source": [
    "df['Timestamp']= pd.to_datetime(df['Timestamp'])\n",
    "df['From Bank']= df['From Bank'].astype('object')\n",
    "df['To Bank']= df['To Bank'].astype(\"object\")\n",
    "df['Is Laundering']= df[\"Is Laundering\"].astype('object')"
   ]
  },
  {
   "cell_type": "code",
   "execution_count": 12,
   "metadata": {},
   "outputs": [
    {
     "data": {
      "text/plain": [
       "Timestamp             datetime64[ns]\n",
       "From Bank                     object\n",
       "Account                       object\n",
       "To Bank                       object\n",
       "Account.1                     object\n",
       "Amount Received              float64\n",
       "Receiving Currency            object\n",
       "Amount Paid                  float64\n",
       "Payment Currency              object\n",
       "Payment Format                object\n",
       "Is Laundering                 object\n",
       "dtype: object"
      ]
     },
     "execution_count": 12,
     "metadata": {},
     "output_type": "execute_result"
    }
   ],
   "source": [
    "df.dtypes"
   ]
  },
  {
   "cell_type": "code",
   "execution_count": 13,
   "metadata": {},
   "outputs": [
    {
     "data": {
      "text/plain": [
       "<Axes: >"
      ]
     },
     "execution_count": 13,
     "metadata": {},
     "output_type": "execute_result"
    },
    {
     "data": {
      "image/png": "[encoded data removed]",
      "text/plain": [
       "<Figure size 640x480 with 1 Axes>"
      ]
     },
     "metadata": {},
     "output_type": "display_data"
    }
   ],
   "source": [
    "df['Amount Received'].plot(kind='box')"
   ]
  },
  {
   "cell_type": "code",
   "execution_count": 14,
   "metadata": {},
   "outputs": [
    {
     "data": {
      "text/plain": [
       "Index(['Timestamp', 'From Bank', 'Account', 'To Bank', 'Account.1',\n",
       "       'Amount Received', 'Receiving Currency', 'Amount Paid',\n",
       "       'Payment Currency', 'Payment Format', 'Is Laundering'],\n",
       "      dtype='object')"
      ]
     },
     "execution_count": 14,
     "metadata": {},
     "output_type": "execute_result"
    }
   ],
   "source": [
    "df.columns"
   ]
  },
  {
   "cell_type": "code",
   "execution_count": 15,
   "metadata": {},
   "outputs": [],
   "source": [
    "df['Date']=df[\"Timestamp\"].dt.date"
   ]
  },
  {
   "cell_type": "code",
   "execution_count": 16,
   "metadata": {},
   "outputs": [],
   "source": [
    "df['Time']=df[\"Timestamp\"].dt.time"
   ]
  },
  {
   "cell_type": "code",
   "execution_count": 17,
   "metadata": {},
   "outputs": [
    {
     "data": {
      "text/html": [
       "<div>\n",
       "<style scoped>\n",
       "    .dataframe tbody tr th:only-of-type {\n",
       "        vertical-align: middle;\n",
       "    }\n",
       "\n",
       "    .dataframe tbody tr th {\n",
       "        vertical-align: top;\n",
       "    }\n",
       "\n",
       "    .dataframe thead th {\n",
       "        text-align: right;\n",
       "    }\n",
       "</style>\n",
       "<table border=\"1\" class=\"dataframe\">\n",
       "  <thead>\n",
       "    <tr style=\"text-align: right;\">\n",
       "      <th></th>\n",
       "      <th>Timestamp</th>\n",
       "      <th>From Bank</th>\n",
       "      <th>Account</th>\n",
       "      <th>To Bank</th>\n",
       "      <th>Account.1</th>\n",
       "      <th>Amount Received</th>\n",
       "      <th>Receiving Currency</th>\n",
       "      <th>Amount Paid</th>\n",
       "      <th>Payment Currency</th>\n",
       "      <th>Payment Format</th>\n",
       "      <th>Is Laundering</th>\n",
       "      <th>Date</th>\n",
       "      <th>Time</th>\n",
       "    </tr>\n",
       "  </thead>\n",
       "  <tbody>\n",
       "    <tr>\n",
       "      <th>0</th>\n",
       "      <td>2022-09-01 00:20:00</td>\n",
       "      <td>10</td>\n",
       "      <td>8000EBD30</td>\n",
       "      <td>10</td>\n",
       "      <td>8000EBD30</td>\n",
       "      <td>3697.34</td>\n",
       "      <td>US Dollar</td>\n",
       "      <td>3697.34</td>\n",
       "      <td>US Dollar</td>\n",
       "      <td>Reinvestment</td>\n",
       "      <td>0</td>\n",
       "      <td>2022-09-01</td>\n",
       "      <td>00:20:00</td>\n",
       "    </tr>\n",
       "    <tr>\n",
       "      <th>1</th>\n",
       "      <td>2022-09-01 00:20:00</td>\n",
       "      <td>3208</td>\n",
       "      <td>8000F4580</td>\n",
       "      <td>1</td>\n",
       "      <td>8000F5340</td>\n",
       "      <td>0.01</td>\n",
       "      <td>US Dollar</td>\n",
       "      <td>0.01</td>\n",
       "      <td>US Dollar</td>\n",
       "      <td>Cheque</td>\n",
       "      <td>0</td>\n",
       "      <td>2022-09-01</td>\n",
       "      <td>00:20:00</td>\n",
       "    </tr>\n",
       "    <tr>\n",
       "      <th>2</th>\n",
       "      <td>2022-09-01 00:00:00</td>\n",
       "      <td>3209</td>\n",
       "      <td>8000F4670</td>\n",
       "      <td>3209</td>\n",
       "      <td>8000F4670</td>\n",
       "      <td>14675.57</td>\n",
       "      <td>US Dollar</td>\n",
       "      <td>14675.57</td>\n",
       "      <td>US Dollar</td>\n",
       "      <td>Reinvestment</td>\n",
       "      <td>0</td>\n",
       "      <td>2022-09-01</td>\n",
       "      <td>00:00:00</td>\n",
       "    </tr>\n",
       "  </tbody>\n",
       "</table>\n",
       "</div>"
      ],
      "text/plain": [
       "            Timestamp From Bank    Account To Bank  Account.1  \\\n",
       "0 2022-09-01 00:20:00        10  8000EBD30      10  8000EBD30   \n",
       "1 2022-09-01 00:20:00      3208  8000F4580       1  8000F5340   \n",
       "2 2022-09-01 00:00:00      3209  8000F4670    3209  8000F4670   \n",
       "\n",
       "   Amount Received Receiving Currency  Amount Paid Payment Currency  \\\n",
       "0          3697.34          US Dollar      3697.34        US Dollar   \n",
       "1             0.01          US Dollar         0.01        US Dollar   \n",
       "2         14675.57          US Dollar     14675.57        US Dollar   \n",
       "\n",
       "  Payment Format Is Laundering        Date      Time  \n",
       "0   Reinvestment             0  2022-09-01  00:20:00  \n",
       "1         Cheque             0  2022-09-01  00:20:00  \n",
       "2   Reinvestment             0  2022-09-01  00:00:00  "
      ]
     },
     "execution_count": 17,
     "metadata": {},
     "output_type": "execute_result"
    }
   ],
   "source": [
    "df.head(3)"
   ]
  },
  {
   "cell_type": "code",
   "execution_count": 18,
   "metadata": {},
   "outputs": [
    {
     "data": {
      "text/plain": [
       "<Axes: xlabel='Date'>"
      ]
     },
     "execution_count": 18,
     "metadata": {},
     "output_type": "execute_result"
    },
    {
     "data": {
      "image/png": "[encoded data removed]",
      "text/plain": [
       "<Figure size 640x480 with 1 Axes>"
      ]
     },
     "metadata": {},
     "output_type": "display_data"
    }
   ],
   "source": [
    "df['Date'].value_counts().head().plot(kind='bar')"
   ]
  },
  {
   "cell_type": "code",
   "execution_count": 19,
   "metadata": {},
   "outputs": [
    {
     "data": {
      "text/plain": [
       "<Axes: xlabel='Time'>"
      ]
     },
     "execution_count": 19,
     "metadata": {},
     "output_type": "execute_result"
    },
    {
     "data": {
      "image/png": "[encoded data removed]",
      "text/plain": [
       "<Figure size 640x480 with 1 Axes>"
      ]
     },
     "metadata": {},
     "output_type": "display_data"
    }
   ],
   "source": [
    "df['Time'].value_counts().head().plot(kind='bar')"
   ]
  },
  {
   "cell_type": "code",
   "execution_count": 20,
   "metadata": {},
   "outputs": [
    {
     "data": {
      "text/plain": [
       "np.float64(1046302363293.48)"
      ]
     },
     "execution_count": 20,
     "metadata": {},
     "output_type": "execute_result"
    }
   ],
   "source": [
    "df['Amount Received'].max()"
   ]
  },
  {
   "cell_type": "code",
   "execution_count": 21,
   "metadata": {},
   "outputs": [
    {
     "data": {
      "text/plain": [
       "np.float64(1e-06)"
      ]
     },
     "execution_count": 21,
     "metadata": {},
     "output_type": "execute_result"
    }
   ],
   "source": [
    "df['Amount Received'].min()"
   ]
  },
  {
   "cell_type": "code",
   "execution_count": 22,
   "metadata": {},
   "outputs": [
    {
     "data": {
      "text/plain": [
       "np.float64(5988736.683497084)"
      ]
     },
     "execution_count": 22,
     "metadata": {},
     "output_type": "execute_result"
    }
   ],
   "source": [
    "df['Amount Received'].mean()"
   ]
  },
  {
   "cell_type": "code",
   "execution_count": 23,
   "metadata": {},
   "outputs": [
    {
     "data": {
      "text/plain": [
       "np.float64(4509281.359229194)"
      ]
     },
     "execution_count": 23,
     "metadata": {},
     "output_type": "execute_result"
    }
   ],
   "source": [
    "df['Amount Paid'].mean()"
   ]
  },
  {
   "cell_type": "code",
   "execution_count": 24,
   "metadata": {},
   "outputs": [
    {
     "data": {
      "text/plain": [
       "array(['US Dollar', 'Bitcoin', 'Euro', 'Australian Dollar', 'Yuan',\n",
       "       'Rupee', 'Yen', 'Mexican Peso', 'UK Pound', 'Ruble',\n",
       "       'Canadian Dollar', 'Swiss Franc', 'Brazil Real', 'Saudi Riyal',\n",
       "       'Shekel'], dtype=object)"
      ]
     },
     "execution_count": 24,
     "metadata": {},
     "output_type": "execute_result"
    }
   ],
   "source": [
    "df['Payment Currency'].unique()"
   ]
  },
  {
   "cell_type": "code",
   "execution_count": 25,
   "metadata": {},
   "outputs": [
    {
     "data": {
      "text/plain": [
       "array(['Reinvestment', 'Cheque', 'Credit Card', 'ACH', 'Cash', 'Wire',\n",
       "       'Bitcoin'], dtype=object)"
      ]
     },
     "execution_count": 25,
     "metadata": {},
     "output_type": "execute_result"
    }
   ],
   "source": [
    "df['Payment Format'].unique()"
   ]
  },
  {
   "cell_type": "code",
   "execution_count": 26,
   "metadata": {},
   "outputs": [
    {
     "data": {
      "text/plain": [
       "Is Laundering\n",
       "0    5073159\n",
       "1       5177\n",
       "Name: count, dtype: int64"
      ]
     },
     "execution_count": 26,
     "metadata": {},
     "output_type": "execute_result"
    }
   ],
   "source": [
    "df['Is Laundering'].value_counts()"
   ]
  },
  {
   "cell_type": "code",
   "execution_count": 27,
   "metadata": {},
   "outputs": [
    {
     "data": {
      "text/plain": [
       "Is Laundering\n",
       "0    0.998981\n",
       "1    0.001019\n",
       "Name: count, dtype: float64"
      ]
     },
     "execution_count": 27,
     "metadata": {},
     "output_type": "execute_result"
    }
   ],
   "source": [
    "df['Is Laundering'].value_counts()/df.shape[0]"
   ]
  },
  {
   "cell_type": "code",
   "execution_count": 28,
   "metadata": {},
   "outputs": [
    {
     "data": {
      "text/html": [
       "<div>\n",
       "<style scoped>\n",
       "    .dataframe tbody tr th:only-of-type {\n",
       "        vertical-align: middle;\n",
       "    }\n",
       "\n",
       "    .dataframe tbody tr th {\n",
       "        vertical-align: top;\n",
       "    }\n",
       "\n",
       "    .dataframe thead th {\n",
       "        text-align: right;\n",
       "    }\n",
       "</style>\n",
       "<table border=\"1\" class=\"dataframe\">\n",
       "  <thead>\n",
       "    <tr style=\"text-align: right;\">\n",
       "      <th></th>\n",
       "      <th>Timestamp</th>\n",
       "      <th>From Bank</th>\n",
       "      <th>Account</th>\n",
       "      <th>To Bank</th>\n",
       "      <th>Account.1</th>\n",
       "      <th>Amount Received</th>\n",
       "      <th>Receiving Currency</th>\n",
       "      <th>Amount Paid</th>\n",
       "      <th>Payment Currency</th>\n",
       "      <th>Payment Format</th>\n",
       "      <th>Is Laundering</th>\n",
       "      <th>Date</th>\n",
       "      <th>Time</th>\n",
       "    </tr>\n",
       "  </thead>\n",
       "  <tbody>\n",
       "    <tr>\n",
       "      <th>4742</th>\n",
       "      <td>2022-09-01 00:21:00</td>\n",
       "      <td>70</td>\n",
       "      <td>100428660</td>\n",
       "      <td>1124</td>\n",
       "      <td>800825340</td>\n",
       "      <td>389769.39</td>\n",
       "      <td>US Dollar</td>\n",
       "      <td>389769.39</td>\n",
       "      <td>US Dollar</td>\n",
       "      <td>Cheque</td>\n",
       "      <td>1</td>\n",
       "      <td>2022-09-01</td>\n",
       "      <td>00:21:00</td>\n",
       "    </tr>\n",
       "    <tr>\n",
       "      <th>40621</th>\n",
       "      <td>2022-09-01 00:03:00</td>\n",
       "      <td>70</td>\n",
       "      <td>100428660</td>\n",
       "      <td>11474</td>\n",
       "      <td>805B716C0</td>\n",
       "      <td>29024.33</td>\n",
       "      <td>US Dollar</td>\n",
       "      <td>29024.33</td>\n",
       "      <td>US Dollar</td>\n",
       "      <td>Credit Card</td>\n",
       "      <td>1</td>\n",
       "      <td>2022-09-01</td>\n",
       "      <td>00:03:00</td>\n",
       "    </tr>\n",
       "    <tr>\n",
       "      <th>69152</th>\n",
       "      <td>2022-09-01 00:01:00</td>\n",
       "      <td>70</td>\n",
       "      <td>100428660</td>\n",
       "      <td>15980</td>\n",
       "      <td>80B39E7B0</td>\n",
       "      <td>792.92</td>\n",
       "      <td>US Dollar</td>\n",
       "      <td>792.92</td>\n",
       "      <td>US Dollar</td>\n",
       "      <td>Credit Card</td>\n",
       "      <td>1</td>\n",
       "      <td>2022-09-01</td>\n",
       "      <td>00:01:00</td>\n",
       "    </tr>\n",
       "    <tr>\n",
       "      <th>85763</th>\n",
       "      <td>2022-09-01 00:03:00</td>\n",
       "      <td>70</td>\n",
       "      <td>100428660</td>\n",
       "      <td>113798</td>\n",
       "      <td>80DC756E0</td>\n",
       "      <td>13171425.53</td>\n",
       "      <td>US Dollar</td>\n",
       "      <td>13171425.53</td>\n",
       "      <td>US Dollar</td>\n",
       "      <td>Cheque</td>\n",
       "      <td>1</td>\n",
       "      <td>2022-09-01</td>\n",
       "      <td>00:03:00</td>\n",
       "    </tr>\n",
       "    <tr>\n",
       "      <th>90684</th>\n",
       "      <td>2022-09-01 00:23:00</td>\n",
       "      <td>70</td>\n",
       "      <td>100428660</td>\n",
       "      <td>32375</td>\n",
       "      <td>80E480620</td>\n",
       "      <td>14288.83</td>\n",
       "      <td>US Dollar</td>\n",
       "      <td>14288.83</td>\n",
       "      <td>US Dollar</td>\n",
       "      <td>Cash</td>\n",
       "      <td>1</td>\n",
       "      <td>2022-09-01</td>\n",
       "      <td>00:23:00</td>\n",
       "    </tr>\n",
       "    <tr>\n",
       "      <th>...</th>\n",
       "      <td>...</td>\n",
       "      <td>...</td>\n",
       "      <td>...</td>\n",
       "      <td>...</td>\n",
       "      <td>...</td>\n",
       "      <td>...</td>\n",
       "      <td>...</td>\n",
       "      <td>...</td>\n",
       "      <td>...</td>\n",
       "      <td>...</td>\n",
       "      <td>...</td>\n",
       "      <td>...</td>\n",
       "      <td>...</td>\n",
       "    </tr>\n",
       "    <tr>\n",
       "      <th>5071168</th>\n",
       "      <td>2022-09-10 23:29:00</td>\n",
       "      <td>111433</td>\n",
       "      <td>8065C2380</td>\n",
       "      <td>21550</td>\n",
       "      <td>8065C69E0</td>\n",
       "      <td>7773.42</td>\n",
       "      <td>US Dollar</td>\n",
       "      <td>7773.42</td>\n",
       "      <td>US Dollar</td>\n",
       "      <td>ACH</td>\n",
       "      <td>1</td>\n",
       "      <td>2022-09-10</td>\n",
       "      <td>23:29:00</td>\n",
       "    </tr>\n",
       "    <tr>\n",
       "      <th>5073375</th>\n",
       "      <td>2022-09-10 23:07:00</td>\n",
       "      <td>9</td>\n",
       "      <td>80727F930</td>\n",
       "      <td>219557</td>\n",
       "      <td>8072A28C0</td>\n",
       "      <td>448920.65</td>\n",
       "      <td>Ruble</td>\n",
       "      <td>448920.65</td>\n",
       "      <td>Ruble</td>\n",
       "      <td>Cheque</td>\n",
       "      <td>1</td>\n",
       "      <td>2022-09-10</td>\n",
       "      <td>23:07:00</td>\n",
       "    </tr>\n",
       "    <tr>\n",
       "      <th>5074248</th>\n",
       "      <td>2022-09-12 03:34:00</td>\n",
       "      <td>222</td>\n",
       "      <td>812D127D0</td>\n",
       "      <td>50202</td>\n",
       "      <td>812D129C0</td>\n",
       "      <td>20085.71</td>\n",
       "      <td>Saudi Riyal</td>\n",
       "      <td>20085.71</td>\n",
       "      <td>Saudi Riyal</td>\n",
       "      <td>ACH</td>\n",
       "      <td>1</td>\n",
       "      <td>2022-09-12</td>\n",
       "      <td>03:34:00</td>\n",
       "    </tr>\n",
       "    <tr>\n",
       "      <th>5075056</th>\n",
       "      <td>2022-09-10 23:43:00</td>\n",
       "      <td>17327</td>\n",
       "      <td>8095F6C20</td>\n",
       "      <td>15695</td>\n",
       "      <td>8095F6C70</td>\n",
       "      <td>3314.36</td>\n",
       "      <td>US Dollar</td>\n",
       "      <td>3314.36</td>\n",
       "      <td>US Dollar</td>\n",
       "      <td>ACH</td>\n",
       "      <td>1</td>\n",
       "      <td>2022-09-10</td>\n",
       "      <td>23:43:00</td>\n",
       "    </tr>\n",
       "    <tr>\n",
       "      <th>5077204</th>\n",
       "      <td>2022-09-10 23:53:00</td>\n",
       "      <td>3</td>\n",
       "      <td>804FAA470</td>\n",
       "      <td>212789</td>\n",
       "      <td>804FAD580</td>\n",
       "      <td>3564699.78</td>\n",
       "      <td>Rupee</td>\n",
       "      <td>3564699.78</td>\n",
       "      <td>Rupee</td>\n",
       "      <td>ACH</td>\n",
       "      <td>1</td>\n",
       "      <td>2022-09-10</td>\n",
       "      <td>23:53:00</td>\n",
       "    </tr>\n",
       "  </tbody>\n",
       "</table>\n",
       "<p>5177 rows × 13 columns</p>\n",
       "</div>"
      ],
      "text/plain": [
       "                  Timestamp From Bank    Account To Bank  Account.1  \\\n",
       "4742    2022-09-01 00:21:00        70  100428660    1124  800825340   \n",
       "40621   2022-09-01 00:03:00        70  100428660   11474  805B716C0   \n",
       "69152   2022-09-01 00:01:00        70  100428660   15980  80B39E7B0   \n",
       "85763   2022-09-01 00:03:00        70  100428660  113798  80DC756E0   \n",
       "90684   2022-09-01 00:23:00        70  100428660   32375  80E480620   \n",
       "...                     ...       ...        ...     ...        ...   \n",
       "5071168 2022-09-10 23:29:00    111433  8065C2380   21550  8065C69E0   \n",
       "5073375 2022-09-10 23:07:00         9  80727F930  219557  8072A28C0   \n",
       "5074248 2022-09-12 03:34:00       222  812D127D0   50202  812D129C0   \n",
       "5075056 2022-09-10 23:43:00     17327  8095F6C20   15695  8095F6C70   \n",
       "5077204 2022-09-10 23:53:00         3  804FAA470  212789  804FAD580   \n",
       "\n",
       "         Amount Received Receiving Currency  Amount Paid Payment Currency  \\\n",
       "4742           389769.39          US Dollar    389769.39        US Dollar   \n",
       "40621           29024.33          US Dollar     29024.33        US Dollar   \n",
       "69152             792.92          US Dollar       792.92        US Dollar   \n",
       "85763        13171425.53          US Dollar  13171425.53        US Dollar   \n",
       "90684           14288.83          US Dollar     14288.83        US Dollar   \n",
       "...                  ...                ...          ...              ...   \n",
       "5071168          7773.42          US Dollar      7773.42        US Dollar   \n",
       "5073375        448920.65              Ruble    448920.65            Ruble   \n",
       "5074248         20085.71        Saudi Riyal     20085.71      Saudi Riyal   \n",
       "5075056          3314.36          US Dollar      3314.36        US Dollar   \n",
       "5077204       3564699.78              Rupee   3564699.78            Rupee   \n",
       "\n",
       "        Payment Format Is Laundering        Date      Time  \n",
       "4742            Cheque             1  2022-09-01  00:21:00  \n",
       "40621      Credit Card             1  2022-09-01  00:03:00  \n",
       "69152      Credit Card             1  2022-09-01  00:01:00  \n",
       "85763           Cheque             1  2022-09-01  00:03:00  \n",
       "90684             Cash             1  2022-09-01  00:23:00  \n",
       "...                ...           ...         ...       ...  \n",
       "5071168            ACH             1  2022-09-10  23:29:00  \n",
       "5073375         Cheque             1  2022-09-10  23:07:00  \n",
       "5074248            ACH             1  2022-09-12  03:34:00  \n",
       "5075056            ACH             1  2022-09-10  23:43:00  \n",
       "5077204            ACH             1  2022-09-10  23:53:00  \n",
       "\n",
       "[5177 rows x 13 columns]"
      ]
     },
     "execution_count": 28,
     "metadata": {},
     "output_type": "execute_result"
    }
   ],
   "source": [
    "df[df['Is Laundering']==1]"
   ]
  },
  {
   "cell_type": "code",
   "execution_count": 29,
   "metadata": {},
   "outputs": [
    {
     "data": {
      "text/plain": [
       "4742       2022-09-01\n",
       "40621      2022-09-01\n",
       "69152      2022-09-01\n",
       "85763      2022-09-01\n",
       "90684      2022-09-01\n",
       "              ...    \n",
       "5071168    2022-09-10\n",
       "5073375    2022-09-10\n",
       "5074248    2022-09-12\n",
       "5075056    2022-09-10\n",
       "5077204    2022-09-10\n",
       "Name: Date, Length: 5177, dtype: object"
      ]
     },
     "execution_count": 29,
     "metadata": {},
     "output_type": "execute_result"
    }
   ],
   "source": [
    "df[df['Is Laundering']==1]['Date']"
   ]
  },
  {
   "cell_type": "code",
   "execution_count": 30,
   "metadata": {},
   "outputs": [
    {
     "data": {
      "text/plain": [
       "Date\n",
       "2022-09-08    539\n",
       "2022-09-06    531\n",
       "2022-09-09    514\n",
       "2022-09-07    497\n",
       "2022-09-05    471\n",
       "2022-09-10    442\n",
       "2022-09-02    408\n",
       "2022-09-04    407\n",
       "2022-09-03    391\n",
       "2022-09-01    322\n",
       "2022-09-11    232\n",
       "2022-09-12    170\n",
       "2022-09-13    106\n",
       "2022-09-14     70\n",
       "2022-09-15     28\n",
       "2022-09-16     26\n",
       "2022-09-17     15\n",
       "2022-09-18      8\n",
       "Name: count, dtype: int64"
      ]
     },
     "execution_count": 30,
     "metadata": {},
     "output_type": "execute_result"
    }
   ],
   "source": [
    "df[df['Is Laundering']==1]['Date'].value_counts()"
   ]
  },
  {
   "cell_type": "code",
   "execution_count": 31,
   "metadata": {},
   "outputs": [
    {
     "data": {
      "text/plain": [
       "<Axes: xlabel='Date'>"
      ]
     },
     "execution_count": 31,
     "metadata": {},
     "output_type": "execute_result"
    },
    {
     "data": {
      "image/png": "[encoded data removed]",
      "text/plain": [
       "<Figure size 640x480 with 1 Axes>"
      ]
     },
     "metadata": {},
     "output_type": "display_data"
    }
   ],
   "source": [
    "df[df['Is Laundering']==1]['Date'].value_counts().plot(kind='bar')"
   ]
  },
  {
   "cell_type": "code",
   "execution_count": 32,
   "metadata": {},
   "outputs": [
    {
     "data": {
      "text/plain": [
       "Time\n",
       "12:32:00    14\n",
       "12:07:00    12\n",
       "14:51:00    11\n",
       "16:21:00    11\n",
       "16:53:00    11\n",
       "            ..\n",
       "20:58:00     1\n",
       "03:01:00     1\n",
       "10:57:00     1\n",
       "00:24:00     1\n",
       "06:44:00     1\n",
       "Name: count, Length: 1383, dtype: int64"
      ]
     },
     "execution_count": 32,
     "metadata": {},
     "output_type": "execute_result"
    }
   ],
   "source": [
    "df[df['Is Laundering']==1]['Time'].value_counts()"
   ]
  },
  {
   "cell_type": "code",
   "execution_count": 33,
   "metadata": {},
   "outputs": [
    {
     "data": {
      "text/plain": [
       "<Axes: xlabel='Time'>"
      ]
     },
     "execution_count": 33,
     "metadata": {},
     "output_type": "execute_result"
    },
    {
     "data": {
      "image/png": "[encoded data removed]",
      "text/plain": [
       "<Figure size 640x480 with 1 Axes>"
      ]
     },
     "metadata": {},
     "output_type": "display_data"
    }
   ],
   "source": [
    "df[df['Is Laundering']==1]['Time'].value_counts().plot(kind='line')"
   ]
  },
  {
   "cell_type": "code",
   "execution_count": 34,
   "metadata": {},
   "outputs": [
    {
     "data": {
      "text/plain": [
       "From Bank\n",
       "70     633\n",
       "12      76\n",
       "20      67\n",
       "119     59\n",
       "10      51\n",
       "Name: count, dtype: int64"
      ]
     },
     "execution_count": 34,
     "metadata": {},
     "output_type": "execute_result"
    }
   ],
   "source": [
    "df[df['Is Laundering']==1]['From Bank'].value_counts().head()"
   ]
  },
  {
   "cell_type": "code",
   "execution_count": 35,
   "metadata": {},
   "outputs": [
    {
     "data": {
      "text/plain": [
       "<Axes: xlabel='From Bank'>"
      ]
     },
     "execution_count": 35,
     "metadata": {},
     "output_type": "execute_result"
    },
    {
     "data": {
      "image/png": "[encoded data removed]",
      "text/plain": [
       "<Figure size 640x480 with 1 Axes>"
      ]
     },
     "metadata": {},
     "output_type": "display_data"
    }
   ],
   "source": [
    "df[df['Is Laundering']==1]['From Bank'].value_counts().head().plot(kind='bar')"
   ]
  },
  {
   "cell_type": "code",
   "execution_count": 36,
   "metadata": {},
   "outputs": [
    {
     "data": {
      "text/html": [
       "<div>\n",
       "<style scoped>\n",
       "    .dataframe tbody tr th:only-of-type {\n",
       "        vertical-align: middle;\n",
       "    }\n",
       "\n",
       "    .dataframe tbody tr th {\n",
       "        vertical-align: top;\n",
       "    }\n",
       "\n",
       "    .dataframe thead th {\n",
       "        text-align: right;\n",
       "    }\n",
       "</style>\n",
       "<table border=\"1\" class=\"dataframe\">\n",
       "  <thead>\n",
       "    <tr style=\"text-align: right;\">\n",
       "      <th></th>\n",
       "      <th>Timestamp</th>\n",
       "      <th>From Bank</th>\n",
       "      <th>Account</th>\n",
       "      <th>To Bank</th>\n",
       "      <th>Account.1</th>\n",
       "      <th>Amount Received</th>\n",
       "      <th>Receiving Currency</th>\n",
       "      <th>Amount Paid</th>\n",
       "      <th>Payment Currency</th>\n",
       "      <th>Payment Format</th>\n",
       "      <th>Is Laundering</th>\n",
       "      <th>Date</th>\n",
       "      <th>Time</th>\n",
       "    </tr>\n",
       "  </thead>\n",
       "  <tbody>\n",
       "    <tr>\n",
       "      <th>0</th>\n",
       "      <td>2022-09-01 00:20:00</td>\n",
       "      <td>10</td>\n",
       "      <td>8000EBD30</td>\n",
       "      <td>10</td>\n",
       "      <td>8000EBD30</td>\n",
       "      <td>3697.340000</td>\n",
       "      <td>US Dollar</td>\n",
       "      <td>3697.34</td>\n",
       "      <td>US Dollar</td>\n",
       "      <td>Reinvestment</td>\n",
       "      <td>0</td>\n",
       "      <td>2022-09-01</td>\n",
       "      <td>00:20:00</td>\n",
       "    </tr>\n",
       "    <tr>\n",
       "      <th>1</th>\n",
       "      <td>2022-09-01 00:20:00</td>\n",
       "      <td>3208</td>\n",
       "      <td>8000F4580</td>\n",
       "      <td>1</td>\n",
       "      <td>8000F5340</td>\n",
       "      <td>0.010000</td>\n",
       "      <td>US Dollar</td>\n",
       "      <td>0.01</td>\n",
       "      <td>US Dollar</td>\n",
       "      <td>Cheque</td>\n",
       "      <td>0</td>\n",
       "      <td>2022-09-01</td>\n",
       "      <td>00:20:00</td>\n",
       "    </tr>\n",
       "    <tr>\n",
       "      <th>2</th>\n",
       "      <td>2022-09-01 00:00:00</td>\n",
       "      <td>3209</td>\n",
       "      <td>8000F4670</td>\n",
       "      <td>3209</td>\n",
       "      <td>8000F4670</td>\n",
       "      <td>14675.570000</td>\n",
       "      <td>US Dollar</td>\n",
       "      <td>14675.57</td>\n",
       "      <td>US Dollar</td>\n",
       "      <td>Reinvestment</td>\n",
       "      <td>0</td>\n",
       "      <td>2022-09-01</td>\n",
       "      <td>00:00:00</td>\n",
       "    </tr>\n",
       "    <tr>\n",
       "      <th>3</th>\n",
       "      <td>2022-09-01 00:02:00</td>\n",
       "      <td>12</td>\n",
       "      <td>8000F5030</td>\n",
       "      <td>12</td>\n",
       "      <td>8000F5030</td>\n",
       "      <td>2806.970000</td>\n",
       "      <td>US Dollar</td>\n",
       "      <td>2806.97</td>\n",
       "      <td>US Dollar</td>\n",
       "      <td>Reinvestment</td>\n",
       "      <td>0</td>\n",
       "      <td>2022-09-01</td>\n",
       "      <td>00:02:00</td>\n",
       "    </tr>\n",
       "    <tr>\n",
       "      <th>4</th>\n",
       "      <td>2022-09-01 00:06:00</td>\n",
       "      <td>10</td>\n",
       "      <td>8000F5200</td>\n",
       "      <td>10</td>\n",
       "      <td>8000F5200</td>\n",
       "      <td>36682.970000</td>\n",
       "      <td>US Dollar</td>\n",
       "      <td>36682.97</td>\n",
       "      <td>US Dollar</td>\n",
       "      <td>Reinvestment</td>\n",
       "      <td>0</td>\n",
       "      <td>2022-09-01</td>\n",
       "      <td>00:06:00</td>\n",
       "    </tr>\n",
       "    <tr>\n",
       "      <th>...</th>\n",
       "      <td>...</td>\n",
       "      <td>...</td>\n",
       "      <td>...</td>\n",
       "      <td>...</td>\n",
       "      <td>...</td>\n",
       "      <td>...</td>\n",
       "      <td>...</td>\n",
       "      <td>...</td>\n",
       "      <td>...</td>\n",
       "      <td>...</td>\n",
       "      <td>...</td>\n",
       "      <td>...</td>\n",
       "      <td>...</td>\n",
       "    </tr>\n",
       "    <tr>\n",
       "      <th>5078167</th>\n",
       "      <td>2022-09-10 23:30:00</td>\n",
       "      <td>23537</td>\n",
       "      <td>803949A90</td>\n",
       "      <td>23537</td>\n",
       "      <td>803949A90</td>\n",
       "      <td>26421.500000</td>\n",
       "      <td>Shekel</td>\n",
       "      <td>7823.96</td>\n",
       "      <td>US Dollar</td>\n",
       "      <td>ACH</td>\n",
       "      <td>0</td>\n",
       "      <td>2022-09-10</td>\n",
       "      <td>23:30:00</td>\n",
       "    </tr>\n",
       "    <tr>\n",
       "      <th>5078234</th>\n",
       "      <td>2022-09-10 23:59:00</td>\n",
       "      <td>16163</td>\n",
       "      <td>803638A90</td>\n",
       "      <td>16163</td>\n",
       "      <td>803638A90</td>\n",
       "      <td>47517.490000</td>\n",
       "      <td>Saudi Riyal</td>\n",
       "      <td>12667.62</td>\n",
       "      <td>US Dollar</td>\n",
       "      <td>ACH</td>\n",
       "      <td>0</td>\n",
       "      <td>2022-09-10</td>\n",
       "      <td>23:59:00</td>\n",
       "    </tr>\n",
       "    <tr>\n",
       "      <th>5078236</th>\n",
       "      <td>2022-09-10 23:55:00</td>\n",
       "      <td>16163</td>\n",
       "      <td>803638A90</td>\n",
       "      <td>16163</td>\n",
       "      <td>803638A90</td>\n",
       "      <td>11329.850000</td>\n",
       "      <td>Saudi Riyal</td>\n",
       "      <td>3020.41</td>\n",
       "      <td>US Dollar</td>\n",
       "      <td>ACH</td>\n",
       "      <td>0</td>\n",
       "      <td>2022-09-10</td>\n",
       "      <td>23:55:00</td>\n",
       "    </tr>\n",
       "    <tr>\n",
       "      <th>5078316</th>\n",
       "      <td>2022-09-10 23:44:00</td>\n",
       "      <td>215064</td>\n",
       "      <td>808F06E11</td>\n",
       "      <td>215064</td>\n",
       "      <td>808F06E10</td>\n",
       "      <td>0.000006</td>\n",
       "      <td>Bitcoin</td>\n",
       "      <td>0.07</td>\n",
       "      <td>US Dollar</td>\n",
       "      <td>ACH</td>\n",
       "      <td>0</td>\n",
       "      <td>2022-09-10</td>\n",
       "      <td>23:44:00</td>\n",
       "    </tr>\n",
       "    <tr>\n",
       "      <th>5078318</th>\n",
       "      <td>2022-09-10 23:45:00</td>\n",
       "      <td>215064</td>\n",
       "      <td>808F06E11</td>\n",
       "      <td>215064</td>\n",
       "      <td>808F06E10</td>\n",
       "      <td>0.000004</td>\n",
       "      <td>Bitcoin</td>\n",
       "      <td>0.05</td>\n",
       "      <td>US Dollar</td>\n",
       "      <td>Wire</td>\n",
       "      <td>0</td>\n",
       "      <td>2022-09-10</td>\n",
       "      <td>23:45:00</td>\n",
       "    </tr>\n",
       "  </tbody>\n",
       "</table>\n",
       "<p>1895169 rows × 13 columns</p>\n",
       "</div>"
      ],
      "text/plain": [
       "                  Timestamp From Bank    Account To Bank  Account.1  \\\n",
       "0       2022-09-01 00:20:00        10  8000EBD30      10  8000EBD30   \n",
       "1       2022-09-01 00:20:00      3208  8000F4580       1  8000F5340   \n",
       "2       2022-09-01 00:00:00      3209  8000F4670    3209  8000F4670   \n",
       "3       2022-09-01 00:02:00        12  8000F5030      12  8000F5030   \n",
       "4       2022-09-01 00:06:00        10  8000F5200      10  8000F5200   \n",
       "...                     ...       ...        ...     ...        ...   \n",
       "5078167 2022-09-10 23:30:00     23537  803949A90   23537  803949A90   \n",
       "5078234 2022-09-10 23:59:00     16163  803638A90   16163  803638A90   \n",
       "5078236 2022-09-10 23:55:00     16163  803638A90   16163  803638A90   \n",
       "5078316 2022-09-10 23:44:00    215064  808F06E11  215064  808F06E10   \n",
       "5078318 2022-09-10 23:45:00    215064  808F06E11  215064  808F06E10   \n",
       "\n",
       "         Amount Received Receiving Currency  Amount Paid Payment Currency  \\\n",
       "0            3697.340000          US Dollar      3697.34        US Dollar   \n",
       "1               0.010000          US Dollar         0.01        US Dollar   \n",
       "2           14675.570000          US Dollar     14675.57        US Dollar   \n",
       "3            2806.970000          US Dollar      2806.97        US Dollar   \n",
       "4           36682.970000          US Dollar     36682.97        US Dollar   \n",
       "...                  ...                ...          ...              ...   \n",
       "5078167     26421.500000             Shekel      7823.96        US Dollar   \n",
       "5078234     47517.490000        Saudi Riyal     12667.62        US Dollar   \n",
       "5078236     11329.850000        Saudi Riyal      3020.41        US Dollar   \n",
       "5078316         0.000006            Bitcoin         0.07        US Dollar   \n",
       "5078318         0.000004            Bitcoin         0.05        US Dollar   \n",
       "\n",
       "        Payment Format Is Laundering        Date      Time  \n",
       "0         Reinvestment             0  2022-09-01  00:20:00  \n",
       "1               Cheque             0  2022-09-01  00:20:00  \n",
       "2         Reinvestment             0  2022-09-01  00:00:00  \n",
       "3         Reinvestment             0  2022-09-01  00:02:00  \n",
       "4         Reinvestment             0  2022-09-01  00:06:00  \n",
       "...                ...           ...         ...       ...  \n",
       "5078167            ACH             0  2022-09-10  23:30:00  \n",
       "5078234            ACH             0  2022-09-10  23:59:00  \n",
       "5078236            ACH             0  2022-09-10  23:55:00  \n",
       "5078316            ACH             0  2022-09-10  23:44:00  \n",
       "5078318           Wire             0  2022-09-10  23:45:00  \n",
       "\n",
       "[1895169 rows x 13 columns]"
      ]
     },
     "execution_count": 36,
     "metadata": {},
     "output_type": "execute_result"
    }
   ],
   "source": [
    "df[df['Payment Currency']=='US Dollar']"
   ]
  },
  {
   "cell_type": "code",
   "execution_count": 37,
   "metadata": {},
   "outputs": [
    {
     "data": {
      "text/plain": [
       "np.float64(1208385176.9299998)"
      ]
     },
     "execution_count": 37,
     "metadata": {},
     "output_type": "execute_result"
    }
   ],
   "source": [
    "df[(df['Is Laundering'] == 1) & (df['Payment Currency'] == \"US Dollar\")]['Amount Paid'].sum()"
   ]
  },
  {
   "cell_type": "code",
   "execution_count": 38,
   "metadata": {},
   "outputs": [
    {
     "data": {
      "text/plain": [
       "Payment Format\n",
       "ACH            4483\n",
       "Cheque          324\n",
       "Credit Card     206\n",
       "Cash            108\n",
       "Bitcoin          56\n",
       "Name: count, dtype: int64"
      ]
     },
     "execution_count": 38,
     "metadata": {},
     "output_type": "execute_result"
    }
   ],
   "source": [
    "df[df['Is Laundering'] == 1]['Payment Format'].value_counts()"
   ]
  },
  {
   "cell_type": "code",
   "execution_count": 39,
   "metadata": {},
   "outputs": [
    {
     "data": {
      "text/plain": [
       "<Axes: xlabel='Payment Format'>"
      ]
     },
     "execution_count": 39,
     "metadata": {},
     "output_type": "execute_result"
    },
    {
     "data": {
      "image/png": "[encoded data removed]",
      "text/plain": [
       "<Figure size 640x480 with 1 Axes>"
      ]
     },
     "metadata": {},
     "output_type": "display_data"
    }
   ],
   "source": [
    "df[df['Is Laundering'] == 1]['Payment Format'].value_counts().plot(kind=\"bar\")"
   ]
  },
  {
   "cell_type": "code",
   "execution_count": 40,
   "metadata": {},
   "outputs": [],
   "source": [
    "df['Week']=df['Timestamp'].dt.day_name()"
   ]
  },
  {
   "cell_type": "code",
   "execution_count": 41,
   "metadata": {},
   "outputs": [],
   "source": [
    "df.drop([\"Timestamp\",'Date'],axis =1,inplace = True)"
   ]
  },
  {
   "cell_type": "code",
   "execution_count": 42,
   "metadata": {},
   "outputs": [
    {
     "data": {
      "text/html": [
       "<div>\n",
       "<style scoped>\n",
       "    .dataframe tbody tr th:only-of-type {\n",
       "        vertical-align: middle;\n",
       "    }\n",
       "\n",
       "    .dataframe tbody tr th {\n",
       "        vertical-align: top;\n",
       "    }\n",
       "\n",
       "    .dataframe thead th {\n",
       "        text-align: right;\n",
       "    }\n",
       "</style>\n",
       "<table border=\"1\" class=\"dataframe\">\n",
       "  <thead>\n",
       "    <tr style=\"text-align: right;\">\n",
       "      <th></th>\n",
       "      <th>From Bank</th>\n",
       "      <th>Account</th>\n",
       "      <th>To Bank</th>\n",
       "      <th>Account.1</th>\n",
       "      <th>Amount Received</th>\n",
       "      <th>Receiving Currency</th>\n",
       "      <th>Amount Paid</th>\n",
       "      <th>Payment Currency</th>\n",
       "      <th>Payment Format</th>\n",
       "      <th>Is Laundering</th>\n",
       "      <th>Time</th>\n",
       "      <th>Week</th>\n",
       "    </tr>\n",
       "  </thead>\n",
       "  <tbody>\n",
       "    <tr>\n",
       "      <th>0</th>\n",
       "      <td>10</td>\n",
       "      <td>8000EBD30</td>\n",
       "      <td>10</td>\n",
       "      <td>8000EBD30</td>\n",
       "      <td>3697.34</td>\n",
       "      <td>US Dollar</td>\n",
       "      <td>3697.34</td>\n",
       "      <td>US Dollar</td>\n",
       "      <td>Reinvestment</td>\n",
       "      <td>0</td>\n",
       "      <td>00:20:00</td>\n",
       "      <td>Thursday</td>\n",
       "    </tr>\n",
       "    <tr>\n",
       "      <th>1</th>\n",
       "      <td>3208</td>\n",
       "      <td>8000F4580</td>\n",
       "      <td>1</td>\n",
       "      <td>8000F5340</td>\n",
       "      <td>0.01</td>\n",
       "      <td>US Dollar</td>\n",
       "      <td>0.01</td>\n",
       "      <td>US Dollar</td>\n",
       "      <td>Cheque</td>\n",
       "      <td>0</td>\n",
       "      <td>00:20:00</td>\n",
       "      <td>Thursday</td>\n",
       "    </tr>\n",
       "  </tbody>\n",
       "</table>\n",
       "</div>"
      ],
      "text/plain": [
       "  From Bank    Account To Bank  Account.1  Amount Received Receiving Currency  \\\n",
       "0        10  8000EBD30      10  8000EBD30          3697.34          US Dollar   \n",
       "1      3208  8000F4580       1  8000F5340             0.01          US Dollar   \n",
       "\n",
       "   Amount Paid Payment Currency Payment Format Is Laundering      Time  \\\n",
       "0      3697.34        US Dollar   Reinvestment             0  00:20:00   \n",
       "1         0.01        US Dollar         Cheque             0  00:20:00   \n",
       "\n",
       "       Week  \n",
       "0  Thursday  \n",
       "1  Thursday  "
      ]
     },
     "execution_count": 42,
     "metadata": {},
     "output_type": "execute_result"
    }
   ],
   "source": [
    "df.head(2)"
   ]
  },
  {
   "cell_type": "code",
   "execution_count": 43,
   "metadata": {},
   "outputs": [],
   "source": [
    "df.drop('Time',axis = 1,inplace = True)"
   ]
  },
  {
   "cell_type": "code",
   "execution_count": 44,
   "metadata": {},
   "outputs": [],
   "source": [
    "contingency = pd.crosstab(df['Is Laundering'], df['Week'])"
   ]
  },
  {
   "cell_type": "code",
   "execution_count": 45,
   "metadata": {},
   "outputs": [
    {
     "name": "stdout",
     "output_type": "stream",
     "text": [
      "There is a relationship\n"
     ]
    }
   ],
   "source": [
    "import scipy.stats as st\n",
    "x,p,y,z = st.chi2_contingency(contingency)\n",
    "\n",
    "if p < 0.05:\n",
    "    print(\"There is a relationship\")\n",
    "else:\n",
    "    print(\"There is no relation ship\")"
   ]
  },
  {
   "cell_type": "code",
   "execution_count": 46,
   "metadata": {},
   "outputs": [
    {
     "name": "stdout",
     "output_type": "stream",
     "text": [
      "There is a relationship\n"
     ]
    }
   ],
   "source": [
    "contingency = pd.crosstab(df['Payment Format'],df['Is Laundering'])\n",
    "x,p,y,z = st.chi2_contingency(contingency)\n",
    "\n",
    "if p < 0.05:\n",
    "    print(\"There is a relationship\")\n",
    "else:\n",
    "    print(\"There is no relation ship\")"
   ]
  },
  {
   "cell_type": "code",
   "execution_count": 47,
   "metadata": {},
   "outputs": [
    {
     "name": "stdout",
     "output_type": "stream",
     "text": [
      "There is a relationship\n"
     ]
    }
   ],
   "source": [
    "contingency = pd.crosstab(df['Payment Currency'],df['Is Laundering'])\n",
    "x,p,y,z = st.chi2_contingency(contingency)\n",
    "\n",
    "if p < 0.05:\n",
    "    print(\"There is a relationship\")\n",
    "else:\n",
    "    print(\"There is no relation ship\")"
   ]
  },
  {
   "cell_type": "code",
   "execution_count": 48,
   "metadata": {},
   "outputs": [
    {
     "name": "stderr",
     "output_type": "stream",
     "text": [
      "c:\\Users\\Sanskriti\\Downloads\\AML_ML\\.aml\\Lib\\site-packages\\sklearn\\preprocessing\\_encoders.py:246: UserWarning: Found unknown categories in columns [0, 1, 2] during transform. These unknown categories will be encoded as all zeros\n",
      "  warnings.warn(\n"
     ]
    },
    {
     "name": "stdout",
     "output_type": "stream",
     "text": [
      "              precision    recall  f1-score   support\n",
      "\n",
      "           0       1.00      1.00      1.00   1521879\n",
      "           1       0.95      0.06      0.12      1622\n",
      "\n",
      "    accuracy                           1.00   1523501\n",
      "   macro avg       0.98      0.53      0.56   1523501\n",
      "weighted avg       1.00      1.00      1.00   1523501\n",
      "\n"
     ]
    }
   ],
   "source": [
    "X = df.drop(['Is Laundering'],axis = 1)\n",
    "y = df['Is Laundering']\n",
    "\n",
    "cat = ['From Bank','Account','To Bank','Receiving Currency','Payment Currency','Payment Format','Week']\n",
    "\n",
    "from sklearn.preprocessing import OneHotEncoder\n",
    "from sklearn.pipeline import Pipeline\n",
    "from sklearn.compose import ColumnTransformer\n",
    "from xgboost import XGBClassifier\n",
    "from sklearn.model_selection import train_test_split\n",
    "\n",
    "X_train,X_test,y_train,y_test = train_test_split(X,y,test_size = 0.3,random_state = 42)\n",
    "\n",
    "ohe = Pipeline([('Encoder',OneHotEncoder(drop = 'first',handle_unknown='ignore'))])\n",
    "\n",
    "transformer = ColumnTransformer([('One Hot Encoding',ohe,cat)])\n",
    "\n",
    "model = Pipeline([(\"Transformer\",transformer),\n",
    "                 (\"Estimator\",XGBClassifier())])\n",
    "\n",
    "model.fit(X_train,y_train)\n",
    "y_pred = model.predict(X_test)\n",
    "\n",
    "from sklearn.metrics import classification_report\n",
    "\n",
    "print(classification_report(y_test.astype('int'),y_pred))"
   ]
  },
  {
   "cell_type": "code",
   "execution_count": null,
   "metadata": {},
   "outputs": [],
   "source": []
  }
 ],
 "metadata": {
  "kernelspec": {
   "display_name": ".aml",
   "language": "python",
   "name": "python3"
  },
  "language_info": {
   "codemirror_mode": {
    "name": "ipython",
    "version": 3
   },
   "file_extension": ".py",
   "mimetype": "text/x-python",
   "name": "python",
   "nbconvert_exporter": "python",
   "pygments_lexer": "ipython3",
   "version": "3.13.1"
  }
 },
 "nbformat": 4,
 "nbformat_minor": 2
}
